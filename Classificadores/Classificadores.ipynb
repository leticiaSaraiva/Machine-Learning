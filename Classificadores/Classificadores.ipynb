{
 "cells": [
  {
   "cell_type": "markdown",
   "metadata": {},
   "source": [
    "# Classificadores"
   ]
  },
  {
   "cell_type": "code",
   "execution_count": 1,
   "metadata": {},
   "outputs": [],
   "source": [
    "import numpy as np\n",
    "import pandas as pd\n",
    "import matplotlib.pyplot as plt\n",
    "from sklearn.metrics import confusion_matrix\n",
    "from sklearn.model_selection import train_test_split\n",
    "import seaborn as sns\n",
    "import math"
   ]
  },
  {
   "cell_type": "markdown",
   "metadata": {},
   "source": [
    "### Questão 1"
   ]
  },
  {
   "cell_type": "markdown",
   "metadata": {},
   "source": [
    "<b> Regressão Logística – Gradiente Descendente </b>"
   ]
  },
  {
   "cell_type": "code",
   "execution_count": 2,
   "metadata": {},
   "outputs": [],
   "source": [
    "class LogisticRegressionGD:\n",
    "    def __init__(self, epochs=1000, alpha=0.001):\n",
    "        self.epochs = epochs\n",
    "        self.alpha = alpha\n",
    "        \n",
    "    def fit(self, x, y):\n",
    "        n = x.shape[0]\n",
    "        x_ = np.c_[np.ones(n), x]\n",
    "        \n",
    "        self.b = np.zeros(x_.shape[1])\n",
    "        \n",
    "        for _ in range(self.epochs):\n",
    "            y_pred = self.predict(x)\n",
    "\n",
    "            erro = y - y_pred\n",
    "            grad = np.dot(erro, x_) / float(len(x_))\n",
    "            \n",
    "            self.b += self.alpha * grad\n",
    "            \n",
    "    def predict(self, x):\n",
    "        \n",
    "        n = x.shape[0]\n",
    "        x_ = np.c_[np.ones(n), x]\n",
    "        \n",
    "        y_pred = list(1./(1 + np.exp(-(np.dot(x_,self.b)))))\n",
    "        \n",
    "        y_pred = [(1. if y >= 0.5 else 0.) for y in y_pred]\n",
    "        \n",
    "        return np.array(y_pred)"
   ]
  },
  {
   "cell_type": "markdown",
   "metadata": {},
   "source": [
    "<b> Naive Bayes Gaussiano </b>"
   ]
  },
  {
   "cell_type": "code",
   "execution_count": 3,
   "metadata": {},
   "outputs": [],
   "source": [
    "class GaussianNB:\n",
    "    def __init__(self):\n",
    "        pass\n",
    "    \n",
    "    def fit(self, X, y):\n",
    "        n = len(y)\n",
    "        self.classes = []\n",
    "        self.probab_classe = {}\n",
    "        self.mean_classe = {}\n",
    "        self.matriz_classe = {}\n",
    "        \n",
    "        #pegar as classes únicas\n",
    "        classes_u = np.unique(y)\n",
    "        \n",
    "        for classe in classes_u:\n",
    "            #adicionar a classe na lista de classes\n",
    "            self.classes.append(classe)\n",
    "            \n",
    "            i_c = np.where(y == classe)[0]\n",
    "            n_c = len(i_c)\n",
    "            self.probab_classe[classe] = n_c/n\n",
    "            \n",
    "            self.mean_classe[classe] = np.mean(X[i_c], axis=0)\n",
    "            \n",
    "            #Matriz de covariância\n",
    "            matriz_covariancia = np.cov(X[i_c].T)\n",
    "            valores_diag = list(matriz_covariancia.diagonal())\n",
    "            \n",
    "            #Preencher a diagonal principal da matriz\n",
    "            nova_matriz = np.zeros(matriz_covariancia.shape)\n",
    "            np.fill_diagonal(nova_matriz, valores_diag)\n",
    "            \n",
    "            self.matriz_classe[classe] = nova_matriz \n",
    "        \n",
    "    def predict(self, X):\n",
    "        y_pred = []\n",
    "        \n",
    "        #pegar a quantidade de colunas do conjunto de instâncias\n",
    "        n = X.shape[1]\n",
    "        \n",
    "        for instancia in X:\n",
    "            probab = 0\n",
    "            classe_x = None\n",
    "            \n",
    "            for classe in self.classes:\n",
    "                prob_x_c = np.linalg.det(self.matriz_classe[classe])\n",
    "                prob_x_c = np.sqrt(prob_x_c) * ((2*math.pi)**(n/2))\n",
    "                prob_x_c = 1/prob_x_c\n",
    "                \n",
    "                prob_x_c_ = np.dot((instancia - self.mean_classe[classe]).T, np.linalg.inv(self.matriz_classe[classe]))\n",
    "                prob_x_c_ = (-1/2) * np.dot(prob_x_c_, (instancia - self.mean_classe[classe]))\n",
    "                prob_x_c_ = math.exp(prob_x_c_)\n",
    "                \n",
    "                probab_x_c = prob_x_c * prob_x_c_\n",
    "                probab_x_c = probab_x_c * self.probab_classe[classe]\n",
    "                \n",
    "                if probab_x_c > probab:\n",
    "                    probab = probab_x_c\n",
    "                    classe_x = classe\n",
    "        \n",
    "            y_pred.append(classe_x)\n",
    "        return np.array(y_pred)\n",
    "                "
   ]
  },
  {
   "cell_type": "markdown",
   "metadata": {},
   "source": [
    "<b> Discriminante Quadrático Gaussiano </b>"
   ]
  },
  {
   "cell_type": "code",
   "execution_count": 4,
   "metadata": {},
   "outputs": [],
   "source": [
    "class GaussianDQ:\n",
    "    def __init__(self):\n",
    "        pass\n",
    "    def fit(self, X, y):\n",
    "        n = len(y)\n",
    "        self.classes = []\n",
    "        self.probab_classe = {}\n",
    "        self.mean_classe = {}\n",
    "        self.matriz_classe = {}\n",
    "        \n",
    "        #pegar as classes únicas\n",
    "        classes_u = np.unique(y)\n",
    "        \n",
    "        for classe in classes_u:\n",
    "            #adicionar a classe na lista de classes\n",
    "            self.classes.append(classe)\n",
    "            \n",
    "            i_c = np.where(y == classe)[0]\n",
    "            n_c = len(i_c)\n",
    "            self.probab_classe[classe] = n_c/n\n",
    "            \n",
    "            self.mean_classe[classe] = np.mean(X[i_c], axis=0)\n",
    "            \n",
    "            #Matriz de covariância\n",
    "            self.matriz_classe[classe] = np.cov(X[i_c].T)\n",
    "        \n",
    "    def predict(self, X):\n",
    "        y_pred = []\n",
    "\n",
    "        #pegar a quantidade de colunas do conjunto de instâncias\n",
    "        n = X.shape[1]\n",
    "\n",
    "        for instancia in X:\n",
    "            probab = 0\n",
    "            classe_x = None\n",
    "\n",
    "            for classe in self.classes:\n",
    "                prob_x_c = np.linalg.det(self.matriz_classe[classe])\n",
    "                prob_x_c = np.sqrt(prob_x_c) * ((2*math.pi)**(n/2))\n",
    "                prob_x_c = 1/prob_x_c\n",
    "\n",
    "                prob_x_c_ = np.dot((instancia-self.mean_classe[classe]).T, np.linalg.inv(self.matriz_classe[classe]))\n",
    "                prob_x_c_ = (-1/2) * np.dot(prob_x_c_, (instancia - self.mean_classe[classe]))\n",
    "                prob_x_c_ = math.exp(prob_x_c_)\n",
    "\n",
    "                probab_x_c = prob_x_c * prob_x_c_\n",
    "                probab_x_c = probab_x_c * self.probab_classe[classe]\n",
    "\n",
    "                if probab_x_c > probab:\n",
    "                    probab = probab_x_c\n",
    "                    classe_x = classe\n",
    "\n",
    "            y_pred.append(classe_x)\n",
    "        return np.array(y_pred)"
   ]
  },
  {
   "cell_type": "markdown",
   "metadata": {},
   "source": [
    "### Questão 2\n",
    "Implemente a função acurácia(y_true, y_pred) que retorna a porcentagem de acerto de y_true."
   ]
  },
  {
   "cell_type": "code",
   "execution_count": 5,
   "metadata": {},
   "outputs": [],
   "source": [
    "def acuracia(y_true, y_pred):\n",
    "    acc = 0\n",
    "    for i in range(len(y_pred)):\n",
    "        if y_pred[i] == y_true[i]:\n",
    "            acc += 1\n",
    "    return acc/len(y_pred)"
   ]
  },
  {
   "cell_type": "markdown",
   "metadata": {},
   "source": [
    "### Questão 3\n",
    "Implemente uma função que receba um classificador e o conjunto de testes e exiba uma matriz de confusão."
   ]
  },
  {
   "cell_type": "code",
   "execution_count": 6,
   "metadata": {},
   "outputs": [],
   "source": [
    "def plot_confusion_matrix_(X, y, clf):\n",
    "    y_pred = clf.predict(X)\n",
    "    \n",
    "    cm = confusion_matrix(y, y_pred)\n",
    "    \n",
    "    index = [\"0.\", \"1.\"]\n",
    "    columns = [\"0.\", \"1.\"]\n",
    "    \n",
    "    cm_df = pd.DataFrame(cm, columns, index)\n",
    "    \n",
    "    plt.figure(figsize=(6,6))\n",
    "    sns.heatmap(cm_df, annot=True, cmap=plt.cm.Reds)"
   ]
  },
  {
   "cell_type": "markdown",
   "metadata": {},
   "source": [
    "### Questão 4\n",
    "Implemente uma função que receba o classificador e o conjunto de teste e exiba o conjunto de testes em um gráfico de dispersão juntamente com as fronteiras de separação do classificador."
   ]
  },
  {
   "cell_type": "code",
   "execution_count": 7,
   "metadata": {},
   "outputs": [],
   "source": [
    "def plot_boundaries(X, y, clf):\n",
    "    \n",
    "    # Traçar a fronteira de decisão. Para isso, atribuiremos uma cor a cada\n",
    "    # ponto na malha [x_min, x_max] x [y_min, y_max].\n",
    "    x_min = X[:, 0].min() - .5\n",
    "    x_max = X[:, 0].max() + .5\n",
    "    y_min = X[:, 1].min() - .5\n",
    "    y_max = X[:, 1].max() + .5\n",
    "\n",
    "    #Tamanho da etapa na malha\n",
    "    h = .02\n",
    "\n",
    "    #Retornando matrizes de coordenadas a partir de vetores de coordenadas.\n",
    "    xx, yy = np.meshgrid(np.arange(x_min, x_max, h), np.arange(y_min, y_max, h))\n",
    "\n",
    "    #Valores preditos\n",
    "    Z = clf.predict(np.c_[xx.ravel(), yy.ravel()])\n",
    "\n",
    "    #Colocando o resultado em um gráfico de cores\n",
    "    Z = Z.reshape(xx.shape)\n",
    "    plt.figure(1, figsize=(5, 5))\n",
    "    plt.pcolormesh(xx, yy, Z, cmap=plt.cm.Spectral)\n",
    "\n",
    "    #Plotando os pontos\n",
    "    plt.scatter(X[:, 0], X[:, 1], c=y, edgecolors='k', cmap=plt.cm.Spectral)\n",
    "    plt.xlabel('Featuring 1')\n",
    "    plt.ylabel('Featuring 2')\n",
    "\n",
    "    plt.xlim(xx.min(), xx.max())\n",
    "    plt.ylim(yy.min(), yy.max())\n",
    "    plt.xticks(())\n",
    "    plt.yticks(())\n",
    "\n",
    "    plt.show()"
   ]
  },
  {
   "cell_type": "markdown",
   "metadata": {},
   "source": [
    "### Carregar o conjunto de dados"
   ]
  },
  {
   "cell_type": "code",
   "execution_count": 8,
   "metadata": {},
   "outputs": [
    {
     "data": {
      "text/plain": [
       "array([[34.62365962, 78.02469282,  0.        ],\n",
       "       [30.28671077, 43.89499752,  0.        ],\n",
       "       [35.84740877, 72.90219803,  0.        ]])"
      ]
     },
     "execution_count": 8,
     "metadata": {},
     "output_type": "execute_result"
    }
   ],
   "source": [
    "dados = np.loadtxt('ex2data1.txt', delimiter=',')\n",
    "dados[:3]"
   ]
  },
  {
   "cell_type": "markdown",
   "metadata": {},
   "source": [
    "### Separando as características e a variável alvo"
   ]
  },
  {
   "cell_type": "code",
   "execution_count": 9,
   "metadata": {},
   "outputs": [],
   "source": [
    "x = dados[:, :-1]\n",
    "y = dados[:, -1]"
   ]
  },
  {
   "cell_type": "code",
   "execution_count": 10,
   "metadata": {},
   "outputs": [
    {
     "data": {
      "text/plain": [
       "array([0., 1.])"
      ]
     },
     "execution_count": 10,
     "metadata": {},
     "output_type": "execute_result"
    }
   ],
   "source": [
    "np.unique(y)"
   ]
  },
  {
   "cell_type": "markdown",
   "metadata": {},
   "source": [
    "### Normalizando os dados"
   ]
  },
  {
   "cell_type": "code",
   "execution_count": 11,
   "metadata": {},
   "outputs": [
    {
     "data": {
      "text/plain": [
       "array([[0.06542784, 0.69465488],\n",
       "       [0.00326632, 0.19470455],\n",
       "       [0.08296784, 0.61961779]])"
      ]
     },
     "execution_count": 11,
     "metadata": {},
     "output_type": "execute_result"
    }
   ],
   "source": [
    "from sklearn.preprocessing import MinMaxScaler\n",
    "\n",
    "scaler = MinMaxScaler()\n",
    "x = scaler.fit_transform(x)\n",
    "x[:3]"
   ]
  },
  {
   "cell_type": "markdown",
   "metadata": {},
   "source": [
    "### Dividir o dataset\n",
    "Usar 70% do conjunto para treino e 30% para teste"
   ]
  },
  {
   "cell_type": "code",
   "execution_count": 12,
   "metadata": {},
   "outputs": [],
   "source": [
    "x_train, x_test, y_train, y_test = train_test_split(x, y, test_size=0.3, stratify=y, random_state=42)"
   ]
  },
  {
   "cell_type": "markdown",
   "metadata": {},
   "source": [
    "### Para cada uma das técnicas de classificação apresente:"
   ]
  },
  {
   "cell_type": "markdown",
   "metadata": {},
   "source": [
    "<b> a. A porcentagem de predições corretas para o conjunto de teste usando a função acurácia. </b>"
   ]
  },
  {
   "cell_type": "code",
   "execution_count": 13,
   "metadata": {},
   "outputs": [
    {
     "name": "stdout",
     "output_type": "stream",
     "text": [
      "Predições corretas (Regressão Logística - GD) para o conj. de treino: 90.00%\n"
     ]
    }
   ],
   "source": [
    "# Regressão Logística - Gradiente Descendente\n",
    "rl = LogisticRegressionGD()\n",
    "rl.fit(x_train, y_train)\n",
    "y_pred_rl = rl.predict(x_test)\n",
    "\n",
    "acc_rl = acuracia(y_test, y_pred_rl) * 100\n",
    "print(\"Predições corretas (Regressão Logística - GD) para o conj. de treino: {:.2f}%\".format(acc_rl))"
   ]
  },
  {
   "cell_type": "code",
   "execution_count": 14,
   "metadata": {},
   "outputs": [
    {
     "name": "stdout",
     "output_type": "stream",
     "text": [
      "Predições corretas (Naive Bayes Gaussiano) para o conj. de treino: 96.67%\n"
     ]
    }
   ],
   "source": [
    "# Naive Bayes Gaussiano\n",
    "nb = GaussianNB()\n",
    "nb.fit(x_train, y_train)\n",
    "y_pred_nb = nb.predict(x_test)\n",
    "\n",
    "acc_nb = acuracia(y_test, y_pred_nb) * 100\n",
    "print(\"Predições corretas (Naive Bayes Gaussiano) para o conj. de treino: {:.2f}%\".format(acc_nb))"
   ]
  },
  {
   "cell_type": "code",
   "execution_count": 15,
   "metadata": {},
   "outputs": [
    {
     "name": "stdout",
     "output_type": "stream",
     "text": [
      "Predições corretas (Discriminante Quadrático Gaussiano) para o conj. de treino: 93.33%\n"
     ]
    }
   ],
   "source": [
    "# Discriminante Quadrático Gaussiano\n",
    "dq = GaussianDQ()\n",
    "dq.fit(x_train, y_train)\n",
    "y_pred_dq = dq.predict(x_test)\n",
    "\n",
    "\n",
    "acc_dq = acuracia(y_test, y_pred_dq) * 100\n",
    "print(\"Predições corretas (Discriminante Quadrático Gaussiano) para o conj. de treino: {:.2f}%\".format(acc_dq))"
   ]
  },
  {
   "cell_type": "markdown",
   "metadata": {},
   "source": [
    "<b> b. A matriz de confusão </b>"
   ]
  },
  {
   "cell_type": "code",
   "execution_count": 16,
   "metadata": {},
   "outputs": [
    {
     "data": {
      "image/png": "[encoded data removed]",
      "text/plain": [
       "<Figure size 432x432 with 2 Axes>"
      ]
     },
     "metadata": {
      "needs_background": "light"
     },
     "output_type": "display_data"
    }
   ],
   "source": [
    "# Regressão Logística - Gradiente Descendente\n",
    "plot_confusion_matrix_(x_test, y_test, rl)"
   ]
  },
  {
   "cell_type": "code",
   "execution_count": 17,
   "metadata": {},
   "outputs": [
    {
     "data": {
      "image/png": "[encoded data removed]",
      "text/plain": [
       "<Figure size 432x432 with 2 Axes>"
      ]
     },
     "metadata": {
      "needs_background": "light"
     },
     "output_type": "display_data"
    }
   ],
   "source": [
    "# Naive Bayes Gaussiano\n",
    "plot_confusion_matrix_(x_test, y_test, nb)"
   ]
  },
  {
   "cell_type": "code",
   "execution_count": 18,
   "metadata": {},
   "outputs": [
    {
     "data": {
      "image/png": "[encoded data removed]",
      "text/plain": [
       "<Figure size 432x432 with 2 Axes>"
      ]
     },
     "metadata": {
      "needs_background": "light"
     },
     "output_type": "display_data"
    }
   ],
   "source": [
    "# Discriminante Quadrático Gaussiano\n",
    "plot_confusion_matrix_(x_test, y_test, dq)"
   ]
  },
  {
   "cell_type": "markdown",
   "metadata": {},
   "source": [
    "<b> c. O dado em um gráfico de dispersão com as fronteiras de separação. </b>"
   ]
  },
  {
   "cell_type": "code",
   "execution_count": 19,
   "metadata": {},
   "outputs": [
    {
     "data": {
      "image/png": "[encoded data removed]",
      "text/plain": [
       "<Figure size 360x360 with 1 Axes>"
      ]
     },
     "metadata": {},
     "output_type": "display_data"
    }
   ],
   "source": [
    "# Regressão Logística - Gradiente Descendente\n",
    "rl.fit(x_train, y_train)\n",
    "plot_boundaries(x_test, y_test, rl)"
   ]
  },
  {
   "cell_type": "code",
   "execution_count": 20,
   "metadata": {},
   "outputs": [
    {
     "data": {
      "image/png": "[encoded data removed]",
      "text/plain": [
       "<Figure size 360x360 with 1 Axes>"
      ]
     },
     "metadata": {},
     "output_type": "display_data"
    }
   ],
   "source": [
    "# Naive Bayes Gaussiano\n",
    "nb.fit(x_train, y_train)\n",
    "plot_boundaries(x_test, y_test, nb)"
   ]
  },
  {
   "cell_type": "code",
   "execution_count": 21,
   "metadata": {},
   "outputs": [
    {
     "data": {
      "image/png": "[encoded data removed]",
      "text/plain": [
       "<Figure size 360x360 with 1 Axes>"
      ]
     },
     "metadata": {},
     "output_type": "display_data"
    }
   ],
   "source": [
    "# Discriminante Quadrático Gaussiano\n",
    "dq.fit(x_train, y_train)\n",
    "plot_boundaries(x_test, y_test, dq)"
   ]
  },
  {
   "cell_type": "markdown",
   "metadata": {},
   "source": [
    "### O dado parece ser linearmente separável ou não?"
   ]
  },
  {
   "cell_type": "markdown",
   "metadata": {},
   "source": [
    "O dado não é linearmente separável. É possível observar isso no seguinte gráfico.\n",
    "\n",
    "Não é possível traçar uma linha que separe as classes presentes nos dados."
   ]
  },
  {
   "cell_type": "code",
   "execution_count": 26,
   "metadata": {},
   "outputs": [
    {
     "data": {
      "image/png": "[encoded data removed]",
      "text/plain": [
       "<Figure size 432x432 with 1 Axes>"
      ]
     },
     "metadata": {
      "needs_background": "light"
     },
     "output_type": "display_data"
    }
   ],
   "source": [
    "plt.figure(1, figsize=(6, 6))\n",
    "plt.scatter(x[:, 0], x[:, 1], c=y)\n",
    "plt.xlabel('Featuring 1')\n",
    "plt.ylabel('Featuring 2');"
   ]
  },
  {
   "cell_type": "markdown",
   "metadata": {},
   "source": [
    "### Quais dos métodos produziu fronteiras lineares?"
   ]
  },
  {
   "cell_type": "markdown",
   "metadata": {},
   "source": [
    "O método da Regressão Linear Logistica - Gradiente Descendente foi o único que produziu fronteiras lineares, como mostrado em um gráfico de dispersão na questão anterior."
   ]
  },
  {
   "cell_type": "markdown",
   "metadata": {},
   "source": [
    "### Qual teve melhor acurácia?"
   ]
  },
  {
   "cell_type": "markdown",
   "metadata": {},
   "source": [
    "O método que obteve melhor acurácia foi o Naive Bayes Gayssiano com 96.67%. A acurácia diz quanto o modelo acertou das previsões possíveis. Pela matriz de confusão, já mostrada na questão anterior, é possível perceber que o modelo errou apenas uma previsão."
   ]
  },
  {
   "cell_type": "code",
   "execution_count": 23,
   "metadata": {},
   "outputs": [],
   "source": [
    "#Fim"
   ]
  }
 ],
 "metadata": {
  "kernelspec": {
   "display_name": "Python 3",
   "language": "python",
   "name": "python3"
  },
  "language_info": {
   "codemirror_mode": {
    "name": "ipython",
    "version": 3
   },
   "file_extension": ".py",
   "mimetype": "text/x-python",
   "name": "python",
   "nbconvert_exporter": "python",
   "pygments_lexer": "ipython3",
   "version": "3.7.6"
  }
 },
 "nbformat": 4,
 "nbformat_minor": 2
}
