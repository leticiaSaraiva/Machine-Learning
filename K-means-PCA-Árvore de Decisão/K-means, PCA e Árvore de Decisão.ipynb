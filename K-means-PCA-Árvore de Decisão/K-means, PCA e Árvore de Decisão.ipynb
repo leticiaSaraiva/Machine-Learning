{
 "cells": [
  {
   "cell_type": "markdown",
   "metadata": {},
   "source": [
    "# K-means, PCA e Árvore de Decisão"
   ]
  },
  {
   "cell_type": "code",
   "execution_count": 1,
   "metadata": {},
   "outputs": [],
   "source": [
    "import warnings\n",
    "warnings.filterwarnings(\"ignore\")\n",
    "\n",
    "import pandas as pd\n",
    "import numpy as np\n",
    "import matplotlib.pyplot as plt\n",
    "from collections import Counter\n",
    "from sklearn.preprocessing import StandardScaler"
   ]
  },
  {
   "cell_type": "markdown",
   "metadata": {},
   "source": [
    "### Conjunto de dados"
   ]
  },
  {
   "cell_type": "code",
   "execution_count": 2,
   "metadata": {},
   "outputs": [
    {
     "data": {
      "text/plain": [
       "array([[5.1, 3.5, 1.4, 0.2, 1. ],\n",
       "       [4.9, 3. , 1.4, 0.2, 1. ],\n",
       "       [4.7, 3.2, 1.3, 0.2, 1. ]])"
      ]
     },
     "execution_count": 2,
     "metadata": {},
     "output_type": "execute_result"
    }
   ],
   "source": [
    "dados = np.loadtxt('trab4.data', delimiter=',')\n",
    "dados[:3]"
   ]
  },
  {
   "cell_type": "markdown",
   "metadata": {},
   "source": [
    "#### Separando as *features* e a variável alvo"
   ]
  },
  {
   "cell_type": "code",
   "execution_count": 3,
   "metadata": {},
   "outputs": [],
   "source": [
    "x = dados[:, :-1]\n",
    "y = dados[:, -1]"
   ]
  },
  {
   "cell_type": "code",
   "execution_count": 4,
   "metadata": {},
   "outputs": [
    {
     "data": {
      "text/plain": [
       "array([[5.1, 3.5, 1.4, 0.2],\n",
       "       [4.9, 3. , 1.4, 0.2],\n",
       "       [4.7, 3.2, 1.3, 0.2]])"
      ]
     },
     "execution_count": 4,
     "metadata": {},
     "output_type": "execute_result"
    }
   ],
   "source": [
    "x[:3]"
   ]
  },
  {
   "cell_type": "code",
   "execution_count": 5,
   "metadata": {},
   "outputs": [
    {
     "data": {
      "text/plain": [
       "array([1., 2., 3.])"
      ]
     },
     "execution_count": 5,
     "metadata": {},
     "output_type": "execute_result"
    }
   ],
   "source": [
    "np.unique(y)"
   ]
  },
  {
   "cell_type": "markdown",
   "metadata": {},
   "source": [
    "### K-means"
   ]
  },
  {
   "cell_type": "markdown",
   "metadata": {},
   "source": [
    "<b> Implementação do k-means usando a distância euclidiana </b>"
   ]
  },
  {
   "cell_type": "code",
   "execution_count": 6,
   "metadata": {},
   "outputs": [],
   "source": [
    "class KMeans():\n",
    "    \n",
    "    def __init__(self, k=2, max_iter=100, alpha=0.001):\n",
    "        self.k = k\n",
    "        self.max_iter = max_iter\n",
    "        self.alpha = alpha\n",
    "        \n",
    "    def fit(self, X):\n",
    "        \n",
    "        # Inicializa os centróides\n",
    "        self.cluster_c = self.calculate_initial_centroids(X)\n",
    "        \n",
    "        # Computa o cluster de cada amostra\n",
    "        self.labels = self.all_nearest_centroids(X)\n",
    "        \n",
    "        # Calcula a inércia inicial\n",
    "        old_inertia = self.inertia(X)\n",
    "        \n",
    "        for index in range(self.max_iter):\n",
    "            self.cluster_centers_ = self.update_centroids(X)\n",
    "            self.labels = self.all_nearest_centroids(X)\n",
    "            \n",
    "            self.inertia_value = self.inertia(X)\n",
    "            \n",
    "            if abs(old_inertia - self.inertia_value) <= self.alpha:\n",
    "                break\n",
    "            else:\n",
    "                old_inertia = self.inertia_value\n",
    "        return self\n",
    "    \n",
    "    def predict(self, X):\n",
    "        return self.all_nearest_centroids(X)\n",
    "    \n",
    "    # Calcula os centróides iniciais\n",
    "    def calculate_initial_centroids(self, X):\n",
    "        minimo = np.min(X, axis=0)\n",
    "        maximo = np.max(X, axis=0)\n",
    "\n",
    "        centroids = np.random.uniform(minimo, maximo, [self.k, X.shape[1]])\n",
    "\n",
    "        return centroids\n",
    "    \n",
    "    # Atualiza os centróides\n",
    "    def update_centroids(self, X):\n",
    "        for i, c in enumerate(self.cluster_c):\n",
    "            pontos = X[self.labels == i]\n",
    "            if pontos.shape[0] != 0:\n",
    "                media = np.mean(pontos, axis=0)\n",
    "                self.cluster_c[i] = media\n",
    "\n",
    "        return self.cluster_c\n",
    "    \n",
    "    # Calcula o índice do centróide mais próximo para cada ponto do dataset\n",
    "    def all_nearest_centroids(self, X):\n",
    "        nd = np.zeros(X.shape[0])\n",
    "\n",
    "        for i, p in enumerate(X):\n",
    "            nd[i] = self.index_nearest_centroid(p)\n",
    "\n",
    "        nearest_indexes = nd\n",
    "\n",
    "        return nearest_indexes\n",
    "    \n",
    "    # Calcula o índice do centroid mais próximo ao ponto p\n",
    "    def index_nearest_centroid(self, p):\n",
    "        dc = np.zeros(len(self.cluster_c))\n",
    "\n",
    "        for i, c in enumerate(self.cluster_c):\n",
    "            dc[i] = self.euclidean_distance(p, c)\n",
    "\n",
    "        nearest_index = np.argmin(dc)\n",
    "        return nearest_index\n",
    "    \n",
    "    def euclidean_distance(self, a, b):\n",
    "        return np.sqrt(np.sum(np.square(a-b)))\n",
    "    \n",
    "    # Métrica de avaliação\n",
    "    def inertia(self, X):\n",
    "        inertia_value = 0\n",
    "\n",
    "        for i, p in enumerate(X):\n",
    "            c = self.labels[i]\n",
    "            c = self.cluster_c[np.int8(c)]\n",
    "            inertia_value += self.euclidean_distance(p,c)**2\n",
    "\n",
    "        return inertia_value"
   ]
  },
  {
   "cell_type": "markdown",
   "metadata": {},
   "source": [
    "<b> a. Plote a distância média de cada ponto para o seu\n",
    "centroide em um gráfico linha em função de k={2,3,4,5} (média\n",
    "sobre 20 rodadas) </b>"
   ]
  },
  {
   "cell_type": "code",
   "execution_count": 18,
   "metadata": {},
   "outputs": [
    {
     "name": "stdout",
     "output_type": "stream",
     "text": [
      "[152.36870647733917, 78.94506582597724, 78.94506582597724, 57.35501904761905]\n"
     ]
    }
   ],
   "source": [
    "inercias = []\n",
    "for k in range(2,6):\n",
    "    km = KMeans(k=k, max_iter=20)\n",
    "    km.fit(x)\n",
    "    inercias.append(km.inertia_value)\n",
    "print(inercias)"
   ]
  },
  {
   "cell_type": "code",
   "execution_count": 19,
   "metadata": {},
   "outputs": [
    {
     "data": {
      "image/png": "[encoded data removed]",
      "text/plain": [
       "<Figure size 1440x720 with 1 Axes>"
      ]
     },
     "metadata": {
      "needs_background": "light"
     },
     "output_type": "display_data"
    }
   ],
   "source": [
    "plt.figure(figsize=(20,10))\n",
    "plt.plot(range(2,6), inercias, c='r', marker='o')\n",
    "plt.xlabel('k', fontsize='xx-large')\n",
    "plt.xticks(range(2,6))\n",
    "plt.ylabel('Inertia', fontsize='xx-large')\n",
    "plt.tick_params(labelsize=15)\n",
    "\n",
    "plt.show()"
   ]
  },
  {
   "cell_type": "markdown",
   "metadata": {},
   "source": [
    "<b> b. Discuta qual seria o k ideal a ser usado </b>"
   ]
  },
  {
   "cell_type": "markdown",
   "metadata": {},
   "source": [
    "O valor de k ideal a ser utilizado, pode ser a partir de k=3, pois através do gráfico é possível observar que a distância média de cada ponto para o seu centróide vai diminuindo a partir desse valor."
   ]
  },
  {
   "cell_type": "code",
   "execution_count": 30,
   "metadata": {},
   "outputs": [
    {
     "data": {
      "image/png": "[encoded data removed]",
      "text/plain": [
       "<Figure size 720x720 with 1 Axes>"
      ]
     },
     "metadata": {
      "needs_background": "light"
     },
     "output_type": "display_data"
    }
   ],
   "source": [
    "kmeans = KMeans(k=3)\n",
    "kmeans.fit(x)\n",
    "\n",
    "plt.figure(figsize=(10,10))\n",
    "plt.scatter(dados[:,0], dados[:,1], c=kmeans.labels)\n",
    "plt.scatter(kmeans.cluster_centers_[:,0], \n",
    "            kmeans.cluster_centers_[:,1], marker='^', c='red', s=100)\n",
    "plt.show()"
   ]
  },
  {
   "cell_type": "markdown",
   "metadata": {},
   "source": [
    "### PCA"
   ]
  },
  {
   "cell_type": "code",
   "execution_count": 32,
   "metadata": {},
   "outputs": [],
   "source": [
    "class PCA():\n",
    "    def __init__(self, n_comp):\n",
    "        self.n_comp = n_comp\n",
    "    \n",
    "    def fit(self, x_):\n",
    "        \n",
    "        # Padronizar o conjunto de dados original\n",
    "        std = StandardScaler()\n",
    "        x = std.fit_transform(x_)\n",
    "        \n",
    "        # Construir a matriz de covariância\n",
    "        cov_matrix = self.covariance_matrix(x)\n",
    "        \n",
    "        # Decompor a matriz de covariância em autovetores e autovalores\n",
    "        eigenvalues, eigenvectors = np.linalg.eig(cov_matrix)\n",
    "        \n",
    "        # Ordenar o autovalores em ordem decrescente juntamente com seus autovetores\n",
    "        # Pega os índices dos valores ordenados em ordem decrescente\n",
    "        indices = (-eigenvalues).argsort()[:self.n_comp]\n",
    "        \n",
    "        # Armazenar os primeiros n eigenvetors\n",
    "        self.W = eigenvectors[:, indices]\n",
    "        \n",
    "        \n",
    "        # Variância\n",
    "        self.variances = np.array([])\n",
    "        for i in indices:\n",
    "            self.variances = np.append(self.variances, eigenvalues[i] / eigenvalues.sum())\n",
    "        \n",
    "    def transform(self, x_):\n",
    "        std = StandardScaler()\n",
    "        x = std.fit_transform(x_)\n",
    "        \n",
    "        return (self.W.T @ x.T).T\n",
    "    \n",
    "    def covariance_matrix(self, x):\n",
    "        n = x.shape[0]\n",
    "        mean = np.mean(x, axis=0)\n",
    "        x_ = x - mean\n",
    "        \n",
    "        return (x_.T @ x_)/(n - 1)"
   ]
  },
  {
   "cell_type": "markdown",
   "metadata": {},
   "source": [
    "<b> Reduza o conjunto de dados original em um conjunto com\n",
    "apenas duas variáveis (2 componentes principais) </b>"
   ]
  },
  {
   "cell_type": "code",
   "execution_count": 33,
   "metadata": {},
   "outputs": [],
   "source": [
    "pca = PCA(n_comp=2)\n",
    "pca.fit(x)\n",
    "\n",
    "x_ = pca.transform(x)"
   ]
  },
  {
   "cell_type": "markdown",
   "metadata": {},
   "source": [
    "<b> a. Reporte quanto de variância foi preservado </b>"
   ]
  },
  {
   "cell_type": "code",
   "execution_count": 34,
   "metadata": {},
   "outputs": [
    {
     "name": "stdout",
     "output_type": "stream",
     "text": [
      "Variância preservada:  0.9580097536148198\n"
     ]
    }
   ],
   "source": [
    "print(\"Variância preservada: \", pca.variances.sum())"
   ]
  },
  {
   "cell_type": "markdown",
   "metadata": {},
   "source": [
    "<b> b. Plote cada ponto do conjunto transformado em um\n",
    "gráfico de dispersão 2d atribuindo uma cor para cada\n",
    "uma das classes (3 classes no total). </b>"
   ]
  },
  {
   "cell_type": "code",
   "execution_count": 35,
   "metadata": {},
   "outputs": [
    {
     "data": {
      "image/png": "[encoded data removed]",
      "text/plain": [
       "<Figure size 576x576 with 1 Axes>"
      ]
     },
     "metadata": {
      "needs_background": "light"
     },
     "output_type": "display_data"
    }
   ],
   "source": [
    "plt.figure(figsize=(8,8))\n",
    "plt.scatter(x_[:,0], x_[:,1], c=y)\n",
    "\n",
    "plt.show()"
   ]
  },
  {
   "cell_type": "markdown",
   "metadata": {},
   "source": [
    "### Árvores de decisão"
   ]
  },
  {
   "cell_type": "markdown",
   "metadata": {},
   "source": [
    "<b> Implemente a árvore de decisão usando o coeficiente de\n",
    "Gini </b>"
   ]
  },
  {
   "cell_type": "code",
   "execution_count": 25,
   "metadata": {},
   "outputs": [],
   "source": [
    "class TreeNode():\n",
    "    def __init__(self, feature=None, threshold=None, left=None, right=None, value=None):\n",
    "        self.feature = feature\n",
    "        self.threshold = threshold\n",
    "        self.left = left\n",
    "        self.right = right\n",
    "        self.value = value\n",
    "\n",
    "    def is_leaf_node(self):\n",
    "        return self.value is not None"
   ]
  },
  {
   "cell_type": "code",
   "execution_count": 26,
   "metadata": {},
   "outputs": [],
   "source": [
    "class DecisionTree():\n",
    "    def __init__(self, min_samples_split=2, max_depth=100, n_feats=None):\n",
    "        self.min_samples_split = min_samples_split\n",
    "        self.max_depth = max_depth\n",
    "        self.n_feats = n_feats\n",
    "        self.root = None\n",
    "\n",
    "    def fit(self, x, y):\n",
    "        self.n_feats = x.shape[1] if not self.n_feats else min(self.n_feats, x.shape[1])\n",
    "        self.root = self._grow_tree(x, y)\n",
    "\n",
    "    def predict(self, X):\n",
    "        return np.array([self._traverse_tree(x, self.root) for x in X])\n",
    "\n",
    "    def _grow_tree(self, X, y, depth=0):\n",
    "        n_samples, n_features = X.shape\n",
    "        n_labels = len(np.unique(y))\n",
    "\n",
    "        if (depth >= self.max_depth\n",
    "                or n_labels == 1\n",
    "                or n_samples < self.min_samples_split):\n",
    "            leaf_value = self._most_common_label(y)\n",
    "            return TreeNode(value=leaf_value)\n",
    "\n",
    "        feat_idxs = np.random.choice(n_features, self.n_feats, replace=False)\n",
    "\n",
    "        # Seleciona a melhor divisão de acordo com o ganho de informação\n",
    "        best_feat, best_thresh = self._best_criteria(X, y, feat_idxs)\n",
    "        \n",
    "        left_idxs, right_idxs = self._split(X[:, best_feat], best_thresh)\n",
    "        left = self._grow_tree(X[left_idxs, :], y[left_idxs], depth+1)\n",
    "        right = self._grow_tree(X[right_idxs, :], y[right_idxs], depth+1)\n",
    "        return TreeNode(best_feat, best_thresh, left, right)\n",
    "\n",
    "    def _best_criteria(self, X, y, feat_idxs):\n",
    "        best_gain = -1\n",
    "        split_idx, split_thresh = None, None\n",
    "        for feat_idx in feat_idxs:\n",
    "            X_column = X[:, feat_idx]\n",
    "            thresholds = np.unique(X_column)\n",
    "            for threshold in thresholds:\n",
    "                gain = self._information_gain(y, X_column, threshold)\n",
    "\n",
    "                if gain > best_gain:\n",
    "                    best_gain = gain\n",
    "                    split_idx = feat_idx\n",
    "                    split_thresh = threshold\n",
    "\n",
    "        return split_idx, split_thresh\n",
    "\n",
    "    def _information_gain(self, y, X_column, split_thresh):\n",
    "        parent_gini = self.gini(y)\n",
    "\n",
    "        left_idxs, right_idxs = self._split(X_column, split_thresh)\n",
    "\n",
    "        if len(left_idxs) == 0 or len(right_idxs) == 0:\n",
    "            return 0\n",
    "\n",
    "        n = len(y)\n",
    "        n_l, n_r = len(left_idxs), len(right_idxs)\n",
    "        e_l, e_r = self.gini(y[left_idxs]), self.gini(y[right_idxs])\n",
    "        child_gini = (n_l / n) * e_l + (n_r / n) * e_r\n",
    "\n",
    "        ig = parent_gini - child_gini\n",
    "        return ig\n",
    "\n",
    "    def _split(self, X_column, split_thresh):\n",
    "        left_idxs = np.argwhere(X_column <= split_thresh).flatten()\n",
    "        right_idxs = np.argwhere(X_column > split_thresh).flatten()\n",
    "        return left_idxs, right_idxs\n",
    "\n",
    "    def _traverse_tree(self, x, node):\n",
    "        if node.is_leaf_node():\n",
    "            return node.value\n",
    "\n",
    "        if x[node.feature] <= node.threshold:\n",
    "            return self._traverse_tree(x, node.left)\n",
    "        return self._traverse_tree(x, node.right)\n",
    "\n",
    "    def _most_common_label(self, y):\n",
    "        counter = Counter(y)\n",
    "        most_common = counter.most_common(1)[0][0]\n",
    "        return most_common\n",
    "    \n",
    "    def gini(self, group):\n",
    "        values, counts = np.unique(group, return_counts=True)\n",
    "        \n",
    "        tot = np.sum(counts)\n",
    "        sum_sq = 0\n",
    "        for i in counts:\n",
    "            sum_sq += (i/tot)**2\n",
    "        return 1 - sum_sq"
   ]
  },
  {
   "cell_type": "markdown",
   "metadata": {},
   "source": [
    "<b>  \n",
    "    Reporte o erro de classificação para o k-fold com k=5\n",
    "    \n",
    "        a. Pode usar o k-fold que foi implementado em\n",
    "        atividades passadas ou pode usar pronto do scikit-\n",
    "        learn\n",
    "    \n",
    "        b. Erro de classificação pode usar pronto do scikit-learn\n",
    "        também\n",
    "</b>"
   ]
  },
  {
   "cell_type": "code",
   "execution_count": 27,
   "metadata": {},
   "outputs": [],
   "source": [
    "from sklearn.metrics import accuracy_score"
   ]
  },
  {
   "cell_type": "code",
   "execution_count": 28,
   "metadata": {},
   "outputs": [],
   "source": [
    "def k_fold(x, y, k, metodo):\n",
    "    \n",
    "    # Determinar o tamanho de um fold\n",
    "    n_fold = int(len(x) / k)\n",
    "    \n",
    "    # Dicionário para guardar o valor da acurácia a cada iteração de k\n",
    "    erro = []\n",
    "    \n",
    "    for i in range(k):\n",
    "        # Dividir os dados em conjunto de treino e conjunto de teste de acordo com o tamanho do fold\n",
    "        \n",
    "        # Dado que o total de instâncias é 100, então cada fold terá 20 instâncias no teste e \n",
    "        # 80 instâncias irão compor o conjunto de treino, em cada k\n",
    "        \n",
    "        x_test = x[(i * n_fold):((i+1) * n_fold)]\n",
    "        y_test = y[(i * n_fold):((i+1) * n_fold)]\n",
    "        \n",
    "        x_train = np.concatenate((x[:(i*n_fold)], x[((i+1)*n_fold):]), axis=0)\n",
    "        y_train = np.concatenate((y[:(i*n_fold)], y[((i+1)*n_fold):]), axis=0)             \n",
    "\n",
    "        # Usando o método passado por parâmetro \n",
    "        metodo.fit(x_train, y_train)\n",
    "        y_pred = metodo.predict(x_test)\n",
    "        \n",
    "        # Usando a função acurácia\n",
    "        acc = accuracy_score(y_test, y_pred)\n",
    "        erro.append(acc)\n",
    "        \n",
    "    # Retorna a média dos erros\n",
    "    return sum(erro)/len(erro)"
   ]
  },
  {
   "cell_type": "code",
   "execution_count": 41,
   "metadata": {},
   "outputs": [
    {
     "name": "stdout",
     "output_type": "stream",
     "text": [
      "A média do erro de classificação para o k-fold com k=5 é  0.9\n"
     ]
    }
   ],
   "source": [
    "decision_tree = DecisionTree(max_depth=4)\n",
    "erro_classif = k_fold(x, y, 5, decision_tree)\n",
    "print(\"A média do erro de classificação para o k-fold com k=5 é \", erro_classif)"
   ]
  },
  {
   "cell_type": "code",
   "execution_count": null,
   "metadata": {},
   "outputs": [],
   "source": [
    "### Fim"
   ]
  }
 ],
 "metadata": {
  "kernelspec": {
   "display_name": "Python 3",
   "language": "python",
   "name": "python3"
  },
  "language_info": {
   "codemirror_mode": {
    "name": "ipython",
    "version": 3
   },
   "file_extension": ".py",
   "mimetype": "text/x-python",
   "name": "python",
   "nbconvert_exporter": "python",
   "pygments_lexer": "ipython3",
   "version": "3.7.6"
  }
 },
 "nbformat": 4,
 "nbformat_minor": 4
}
