{
 "cells": [
  {
   "cell_type": "markdown",
   "metadata": {},
   "source": [
    "# Classificadores (parte II)"
   ]
  },
  {
   "cell_type": "code",
   "execution_count": 1,
   "metadata": {},
   "outputs": [],
   "source": [
    "import warnings\n",
    "warnings.filterwarnings(\"ignore\")\n",
    "\n",
    "import pandas as pd\n",
    "import numpy as np\n",
    "import matplotlib.pyplot as plt\n",
    "from sklearn.metrics import confusion_matrix\n",
    "import seaborn as sns\n",
    "import math\n",
    "from collections import Counter"
   ]
  },
  {
   "cell_type": "markdown",
   "metadata": {},
   "source": [
    "### Questão 1"
   ]
  },
  {
   "cell_type": "markdown",
   "metadata": {},
   "source": [
    "<b> Rede MLP para classificação </b>\n",
    "\n",
    "    i. Apenas uma camada oculta (recebe o tamanho dessa camada como parâmetro)\n",
    "\n",
    "    ii. Pode assumir que tem apenas um neurônio de saída"
   ]
  },
  {
   "cell_type": "code",
   "execution_count": 2,
   "metadata": {},
   "outputs": [],
   "source": [
    "class MLP():\n",
    "    def __init__(self, input_layer_size, hidden_layer_size = 1):\n",
    "        self.input_layer_size = input_layer_size\n",
    "        self.hidden_layer_size = hidden_layer_size\n",
    "        self.output_layer_size = 1\n",
    "        \n",
    "        # Inicializando randomicamente os pesos das camadas ocultas e de saída\n",
    "        self.w1 = np.random.randn(self.hidden_layer_size, self.input_layer_size)\n",
    "        self.w2 = np.random.randn(self.output_layer_size, self.hidden_layer_size)\n",
    "        \n",
    "        self.b1 = np.random.randn(self.hidden_layer_size, )\n",
    "        self.b2 = np.random.randn(self.output_layer_size, )\n",
    "    \n",
    "    # Função logística\n",
    "    def sigmoid(self, x):\n",
    "        return 1/(1 + np.exp(-x))\n",
    "    \n",
    "    # Derivada da função logística\n",
    "    def sigmoid_d(self, x):\n",
    "        return self.sigmoid(x) * (1 - self.sigmoid(x))\n",
    "    \n",
    "    # Treino de um sample atualizando os pesos e os valores de bias\n",
    "    def fit_sample(self, x, y, alpha, n):\n",
    "        grad_w1, grad_w2, grad_b1, grad_b2 = self.gradiente_step(x, y)\n",
    "        \n",
    "        self.w1 += (-alpha/n) * grad_w1\n",
    "        self.w2 += (-alpha/n) * grad_w2\n",
    "        \n",
    "        self.b1 += (-alpha/n) * grad_b1\n",
    "        self.b2 += (-alpha/n) * grad_b2\n",
    "        \n",
    "    # Calcular o gradiente\n",
    "    def gradiente_step(self, x, y):\n",
    "        weighted_hidden = np.dot(self.w1, x) + self.b1\n",
    "        act_hidden = self.sigmoid(weighted_hidden)\n",
    "        weighted_output = np.dot(self.w2, act_hidden) + self.b2\n",
    "        act_output = self.sigmoid(weighted_output)\n",
    "        \n",
    "        e_residual = (act_output - y) * self.sigmoid_d(weighted_output)\n",
    "        grad_w2 = np.array([e_residual]).T @ np.array([act_hidden])\n",
    "        grad_b2 = e_residual\n",
    "        \n",
    "        e_residual = np.dot(self.w2.T, e_residual) * self.sigmoid_d(weighted_hidden)\n",
    "        grad_w1 = np.array([e_residual]).T @ np.array([x])\n",
    "        grad_b1 = e_residual\n",
    "        \n",
    "        return grad_w1, grad_w2, grad_b1, grad_b2\n",
    "        \n",
    "    def fit(self, x, y, epochs=100, alpha=10, print_acc_per_epochs=False):\n",
    "        for epoch in range(epochs):\n",
    "            for x_val, y_val in zip(x, y):\n",
    "                self.fit_sample(x_val, y_val, alpha, len(x))\n",
    "            \n",
    "            if print_acc_per_epochs:\n",
    "                y_pred = self.predict(x)\n",
    "                acc = self.acuracia(y, y_pred)\n",
    "                print(\"Época {} -- acurácia: {}\".format(epoch+1, acc))\n",
    "    \n",
    "    # Predict de um sample\n",
    "    def predict_sample(self, x):\n",
    "        weighted_hidden = np.dot(self.w1, x) + self.b1\n",
    "        act_hidden = self.sigmoid(weighted_hidden)\n",
    "        weighted_output = np.dot(self.w2, act_hidden) + self.b2\n",
    "        act_output = self.sigmoid(weighted_output)\n",
    "        \n",
    "        return act_output\n",
    "    \n",
    "    def predict(self, x):\n",
    "        results = [self.predict_sample(x_val) for x_val in x]\n",
    "        return np.array([(1. if z >= 0.5 else 0.) for z in results])\n",
    "    \n",
    "    def acuracia(self, y_true, y_pred):\n",
    "        acc = 0\n",
    "        for i in range(len(y_pred)):\n",
    "            if y_pred[i] == y_true[i]:\n",
    "                acc += 1\n",
    "        return acc/len(y_pred)"
   ]
  },
  {
   "cell_type": "markdown",
   "metadata": {},
   "source": [
    "<b> KNN </b>\n",
    "\n",
    "    i. Recebe k como parâmetro"
   ]
  },
  {
   "cell_type": "code",
   "execution_count": 3,
   "metadata": {},
   "outputs": [],
   "source": [
    "class KNN():\n",
    "    def __init__(self, k=5):\n",
    "        self.k = k\n",
    "    \n",
    "    def distancia_euclidiana(self, r, s):\n",
    "        distancia = 0\n",
    "        for i in range(len(s)):\n",
    "            distancia += math.pow(r[i] - s[i], 2)\n",
    "        \n",
    "        return math.sqrt(distancia)\n",
    "    \n",
    "    def fit(self, x_train, y_train):\n",
    "        self.x_train = x_train\n",
    "        self.y_train = y_train\n",
    "\n",
    "    def predict(self, x_test):\n",
    "        predictions = []\n",
    "        for x in x_test:\n",
    "            y = self.closest(x)\n",
    "            predictions.append(y)\n",
    "\n",
    "        return np.array(predictions)\n",
    "\n",
    "    def closest(self, inst_test):\n",
    "        distances = []\n",
    "        \n",
    "        # Calcular a distância da nova instância em relação as outras e salvar na lista 'distances'\n",
    "        # Armazena, na lista de distancias, tuplas contendo o índice da instância de treino e a distância para a nova instância\n",
    "        for i in range(len(self.x_train)):\n",
    "            distances.append((i, self.distancia_euclidiana(inst_test, self.x_train[i])))\n",
    "        \n",
    "        # Ordenar as distâncias calculadas e pega as k instâncias mais próximas\n",
    "        distances = sorted(distances, key=lambda x: x[1])[0:self.k]\n",
    "        \n",
    "        # Pegar os k índices das instâncias de treino\n",
    "        k_i = [distances[i][0] for i in range(self.k)]\n",
    "        \n",
    "        # Pegar as labels que correspondem aos índices em k_i\n",
    "        k_y = [self.y_train[k_i[i]] for i in range(self.k)]\n",
    "        \n",
    "        # Contar a quantidade de cada label em k_labels\n",
    "        # O most_common retorna uma lista dos n elementos mais comuns e suas contagens, do mais comum ao menos.\n",
    "        # Então, retornamos somente os elementos (as labels)\n",
    "        c = Counter(k_y)\n",
    "    \n",
    "        return c.most_common()[0][0]"
   ]
  },
  {
   "cell_type": "markdown",
   "metadata": {},
   "source": [
    "### Questão 2 \n",
    "\n",
    "Funções *acurácia*, *plot_confusion_matrix* e *plot_boundaries* do trabalho passado"
   ]
  },
  {
   "cell_type": "code",
   "execution_count": 4,
   "metadata": {},
   "outputs": [],
   "source": [
    "def acuracia(y_true, y_pred):\n",
    "    acc = 0\n",
    "    for i in range(len(y_pred)):\n",
    "        if y_pred[i] == y_true[i]:\n",
    "            acc += 1\n",
    "    return acc/len(y_pred)"
   ]
  },
  {
   "cell_type": "code",
   "execution_count": 5,
   "metadata": {},
   "outputs": [],
   "source": [
    "def plot_confusion_matrix(X, y, clf):\n",
    "    y_pred = clf.predict(X)\n",
    "    \n",
    "    cm = confusion_matrix(y, y_pred)\n",
    "    \n",
    "    index = [\"0.\", \"1.\"]\n",
    "    columns = [\"0.\", \"1.\"]\n",
    "    \n",
    "    cm_df = pd.DataFrame(cm, columns, index)\n",
    "    \n",
    "    plt.figure(figsize=(8,8))\n",
    "    \n",
    "    ax = sns.heatmap(cm_df, annot=True, cmap=plt.cm.Reds)\n",
    "    ax.set(xlabel=\"Valores preditos\", ylabel=\"Valores reais\")"
   ]
  },
  {
   "cell_type": "code",
   "execution_count": 6,
   "metadata": {},
   "outputs": [],
   "source": [
    "def plot_boundaries(X, y, clf):\n",
    "    \n",
    "    # Traçar a fronteira de decisão. Para isso, atribuiremos uma cor a cada\n",
    "    # ponto na malha [x_min, x_max] x [y_min, y_max].\n",
    "    x_min = X[:, 0].min() - .5\n",
    "    x_max = X[:, 0].max() + .5\n",
    "    y_min = X[:, 1].min() - .5\n",
    "    y_max = X[:, 1].max() + .5\n",
    "\n",
    "    #Tamanho da etapa na malha\n",
    "    h = .02\n",
    "\n",
    "    #Retornando matrizes de coordenadas a partir de vetores de coordenadas.\n",
    "    xx, yy = np.meshgrid(np.arange(x_min, x_max, h), np.arange(y_min, y_max, h))\n",
    "\n",
    "    #Valores preditos\n",
    "    Z = clf.predict(np.c_[xx.ravel(), yy.ravel()])\n",
    "    \n",
    "    #Colocando o resultado em um gráfico de cores\n",
    "    Z = Z.reshape(xx.shape)\n",
    "    plt.figure(1, figsize=(10, 10))\n",
    "    plt.pcolormesh(xx, yy, Z, cmap=plt.cm.Spectral)\n",
    "\n",
    "    #Plotando os pontos\n",
    "    plt.scatter(X[:, 0], X[:, 1], c=y, edgecolors='k', cmap=plt.cm.Spectral)\n",
    "    plt.xlabel('Feature 1')\n",
    "    plt.ylabel('Feature 2')\n",
    "\n",
    "    plt.xlim(xx.min(), xx.max())\n",
    "    plt.ylim(yy.min(), yy.max())\n",
    "    plt.xticks(())\n",
    "    plt.yticks(())\n",
    "\n",
    "    plt.show()"
   ]
  },
  {
   "cell_type": "markdown",
   "metadata": {},
   "source": [
    "### Questão 3\n",
    "\n",
    "Implementar função k_fold(X, y, k, metodo) que execute a validação cruzada k-fold sobre o conjunto de dados X, y usando o método método reportanto o erro usando função acurácia (usar k=5). Não precisa implementar parte de validação e teste, implementar somente o fluxo principal (como está no primeiro slide sobre k-fold) "
   ]
  },
  {
   "cell_type": "code",
   "execution_count": 7,
   "metadata": {},
   "outputs": [],
   "source": [
    "def k_fold(x, y, k, metodo):\n",
    "    \n",
    "    # Determinar o tamanho de um fold\n",
    "    n_fold = int(len(x) / k)\n",
    "    \n",
    "    # Dicionário para guardar o valor da acurácia a cada iteração de k\n",
    "    erro = []\n",
    "    \n",
    "    for i in range(k):\n",
    "        # Dividir os dados em conjunto de treino e conjunto de teste de acordo com o tamanho do fold\n",
    "        \n",
    "        # Dado que o total de instâncias é 100, então cada fold terá 20 instâncias no teste e \n",
    "        # 80 instâncias irão compor o conjunto de treino, em cada k\n",
    "        \n",
    "        x_test = x[(i * n_fold):((i+1) * n_fold)]\n",
    "        y_test = y[(i * n_fold):((i+1) * n_fold)]\n",
    "        \n",
    "        x_train = np.concatenate((x[:(i*n_fold)], x[((i+1)*n_fold):]), axis=0)\n",
    "        y_train = np.concatenate((y[:(i*n_fold)], y[((i+1)*n_fold):]), axis=0)             \n",
    "\n",
    "        # Usando o método passado por parâmetro \n",
    "        metodo.fit(x_train, y_train)\n",
    "        y_pred = metodo.predict(x_test)\n",
    "        \n",
    "        # Usando a função acurácia\n",
    "        acc = acuracia(y_test, y_pred)\n",
    "        erro.append(acc)\n",
    "        \n",
    "    # Retorna a média dos erros\n",
    "    return sum(erro)/len(erro)"
   ]
  },
  {
   "cell_type": "markdown",
   "metadata": {},
   "source": [
    "### Carregar o conjunto de dados"
   ]
  },
  {
   "cell_type": "code",
   "execution_count": 8,
   "metadata": {},
   "outputs": [
    {
     "data": {
      "text/plain": [
       "array([[34.62365962, 78.02469282,  0.        ],\n",
       "       [30.28671077, 43.89499752,  0.        ],\n",
       "       [35.84740877, 72.90219803,  0.        ]])"
      ]
     },
     "execution_count": 8,
     "metadata": {},
     "output_type": "execute_result"
    }
   ],
   "source": [
    "dados = np.loadtxt('data1.txt', delimiter=',')\n",
    "dados[:3]"
   ]
  },
  {
   "cell_type": "markdown",
   "metadata": {},
   "source": [
    "### Separando as características e a variável alvo"
   ]
  },
  {
   "cell_type": "code",
   "execution_count": 9,
   "metadata": {},
   "outputs": [],
   "source": [
    "x = dados[:, :-1]\n",
    "y = dados[:, -1]"
   ]
  },
  {
   "cell_type": "code",
   "execution_count": 10,
   "metadata": {},
   "outputs": [
    {
     "data": {
      "text/plain": [
       "array([[34.62365962, 78.02469282],\n",
       "       [30.28671077, 43.89499752],\n",
       "       [35.84740877, 72.90219803]])"
      ]
     },
     "execution_count": 10,
     "metadata": {},
     "output_type": "execute_result"
    }
   ],
   "source": [
    "x[:3]"
   ]
  },
  {
   "cell_type": "code",
   "execution_count": 11,
   "metadata": {},
   "outputs": [
    {
     "data": {
      "text/plain": [
       "array([0., 1.])"
      ]
     },
     "execution_count": 11,
     "metadata": {},
     "output_type": "execute_result"
    }
   ],
   "source": [
    "np.unique(y)"
   ]
  },
  {
   "cell_type": "markdown",
   "metadata": {},
   "source": [
    "### Normalizando os dados"
   ]
  },
  {
   "cell_type": "code",
   "execution_count": 12,
   "metadata": {},
   "outputs": [],
   "source": [
    "from sklearn.preprocessing import StandardScaler  \n",
    "scaler = StandardScaler()  \n",
    "scaler.fit(x)\n",
    "\n",
    "x = scaler.transform(x)   "
   ]
  },
  {
   "cell_type": "code",
   "execution_count": 13,
   "metadata": {},
   "outputs": [
    {
     "data": {
      "text/plain": [
       "array([[-1.60224763,  0.63834112],\n",
       "       [-1.82625564, -1.2075414 ],\n",
       "       [-1.53903969,  0.3612943 ]])"
      ]
     },
     "execution_count": 13,
     "metadata": {},
     "output_type": "execute_result"
    }
   ],
   "source": [
    "x[:3]"
   ]
  },
  {
   "cell_type": "code",
   "execution_count": 14,
   "metadata": {},
   "outputs": [
    {
     "data": {
      "text/plain": [
       "100"
      ]
     },
     "execution_count": 14,
     "metadata": {},
     "output_type": "execute_result"
    }
   ],
   "source": [
    "len(x)"
   ]
  },
  {
   "cell_type": "markdown",
   "metadata": {},
   "source": [
    "### Reporte o que se pede\n",
    "\n",
    "Usando os métodos KNN (com k = 1, 2 e 3) e MLP (como número de neurônios na camada oculta 2,3 e 4)"
   ]
  },
  {
   "cell_type": "markdown",
   "metadata": {},
   "source": [
    "<b> a. O erro do 5-fold </b>"
   ]
  },
  {
   "cell_type": "code",
   "execution_count": 15,
   "metadata": {},
   "outputs": [
    {
     "name": "stdout",
     "output_type": "stream",
     "text": [
      "Erro 5-fold KNN (k = 1):  0.9200000000000002\n",
      "Erro 5-fold KNN (k = 2):  0.9200000000000002\n",
      "Erro 5-fold KNN (k = 3):  0.85\n"
     ]
    }
   ],
   "source": [
    "# KNN\n",
    "knn_1 = KNN(k=1)\n",
    "knn_2 = KNN(k=2)\n",
    "knn_3 = KNN(k=3)\n",
    "\n",
    "print(\"Erro 5-fold KNN (k = 1): \", k_fold(x, y, 5, knn_1))\n",
    "print(\"Erro 5-fold KNN (k = 2): \", k_fold(x, y, 5, knn_2))\n",
    "print(\"Erro 5-fold KNN (k = 3): \", k_fold(x, y, 5, knn_3))"
   ]
  },
  {
   "cell_type": "code",
   "execution_count": 16,
   "metadata": {},
   "outputs": [
    {
     "name": "stdout",
     "output_type": "stream",
     "text": [
      "Erro 5-fold MLP (neurônios na camada oculta = 2):  0.9099999999999999\n",
      "Erro 5-fold MLP (neurônios na camada oculta = 3):  0.9400000000000001\n",
      "Erro 5-fold MLP (neurônios na camada oculta = 4):  0.9400000000000001\n"
     ]
    }
   ],
   "source": [
    "# MLP\n",
    "mlp_2_o = MLP(input_layer_size=2, hidden_layer_size=2)\n",
    "mlp_3_o = MLP(input_layer_size=2, hidden_layer_size=3)\n",
    "mlp_4_o = MLP(input_layer_size=2, hidden_layer_size=4)\n",
    "\n",
    "print(\"Erro 5-fold MLP (neurônios na camada oculta = 2): \", k_fold(x, y, 5, mlp_2_o))\n",
    "print(\"Erro 5-fold MLP (neurônios na camada oculta = 3): \", k_fold(x, y, 5, mlp_3_o))\n",
    "print(\"Erro 5-fold MLP (neurônios na camada oculta = 4): \", k_fold(x, y, 5, mlp_4_o))"
   ]
  },
  {
   "cell_type": "markdown",
   "metadata": {},
   "source": [
    "<b> b. O dado em um gráfico de dispersão com as fronteiras de\n",
    "separação produzidas pelo método treinado com o\n",
    "conjunto de dados inteiro </b> "
   ]
  },
  {
   "cell_type": "markdown",
   "metadata": {},
   "source": [
    "#### MLP"
   ]
  },
  {
   "cell_type": "code",
   "execution_count": 17,
   "metadata": {},
   "outputs": [
    {
     "name": "stdout",
     "output_type": "stream",
     "text": [
      "Acurácia MLP: 91.0%\n"
     ]
    }
   ],
   "source": [
    "mlp = MLP(input_layer_size=2)\n",
    "mlp.fit(x, y, alpha=10, epochs=200)\n",
    "y_pred_mlp = mlp.predict(x)\n",
    "acc_mlp = acuracia(y, y_pred_mlp)\n",
    "\n",
    "print(\"Acurácia MLP: {}%\".format(acc_mlp * 100))"
   ]
  },
  {
   "cell_type": "code",
   "execution_count": 18,
   "metadata": {},
   "outputs": [
    {
     "data": {
      "image/png": "[encoded data removed]",
      "text/plain": [
       "<Figure size 720x720 with 1 Axes>"
      ]
     },
     "metadata": {},
     "output_type": "display_data"
    }
   ],
   "source": [
    "#MLP\n",
    "plot_boundaries(x, y, mlp)"
   ]
  },
  {
   "cell_type": "code",
   "execution_count": 19,
   "metadata": {},
   "outputs": [
    {
     "data": {
      "image/png": "[encoded data removed]",
      "text/plain": [
       "<Figure size 576x576 with 2 Axes>"
      ]
     },
     "metadata": {
      "needs_background": "light"
     },
     "output_type": "display_data"
    }
   ],
   "source": [
    "# Matriz de confusão\n",
    "plot_confusion_matrix(x, y, mlp)"
   ]
  },
  {
   "cell_type": "markdown",
   "metadata": {},
   "source": [
    "#### KNN"
   ]
  },
  {
   "cell_type": "code",
   "execution_count": 20,
   "metadata": {},
   "outputs": [
    {
     "name": "stdout",
     "output_type": "stream",
     "text": [
      "Acurácia KNN: 92.0%\n"
     ]
    }
   ],
   "source": [
    "knn = KNN()\n",
    "y_pred_knn = []\n",
    "knn.fit(x, y)\n",
    "y_pred_knn = knn.predict(x)\n",
    "acc_knn = acuracia(y, y_pred_knn)\n",
    "\n",
    "print(\"Acurácia KNN: {}%\".format(acc_knn * 100))"
   ]
  },
  {
   "cell_type": "code",
   "execution_count": 21,
   "metadata": {},
   "outputs": [
    {
     "data": {
      "image/png": "[encoded data removed]",
      "text/plain": [
       "<Figure size 720x720 with 1 Axes>"
      ]
     },
     "metadata": {},
     "output_type": "display_data"
    }
   ],
   "source": [
    "#KNN\n",
    "plot_boundaries(x, y, knn)"
   ]
  },
  {
   "cell_type": "code",
   "execution_count": 22,
   "metadata": {},
   "outputs": [
    {
     "data": {
      "image/png": "[encoded data removed]",
      "text/plain": [
       "<Figure size 576x576 with 2 Axes>"
      ]
     },
     "metadata": {
      "needs_background": "light"
     },
     "output_type": "display_data"
    }
   ],
   "source": [
    "# Matriz de confusão\n",
    "plot_confusion_matrix(x, y, knn)"
   ]
  },
  {
   "cell_type": "code",
   "execution_count": null,
   "metadata": {},
   "outputs": [],
   "source": []
  }
 ],
 "metadata": {
  "kernelspec": {
   "display_name": "Python 3",
   "language": "python",
   "name": "python3"
  },
  "language_info": {
   "codemirror_mode": {
    "name": "ipython",
    "version": 3
   },
   "file_extension": ".py",
   "mimetype": "text/x-python",
   "name": "python",
   "nbconvert_exporter": "python",
   "pygments_lexer": "ipython3",
   "version": "3.7.6"
  }
 },
 "nbformat": 4,
 "nbformat_minor": 4
}
